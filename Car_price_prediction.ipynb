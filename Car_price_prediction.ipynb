{
 "cells": [
  {
   "cell_type": "markdown",
   "id": "08a7b823",
   "metadata": {},
   "source": [
    "# Importing modules"
   ]
  },
  {
   "cell_type": "code",
   "execution_count": 6,
   "id": "f12ebfa2",
   "metadata": {},
   "outputs": [],
   "source": [
    "import pandas as pd\n",
    "import matplotlib.pyplot as plt\n",
    "import seaborn as sns\n",
    "from sklearn.model_selection import train_test_split\n",
    "from sklearn.linear_model import LinearRegression, Lasso\n",
    "from sklearn import metrics\n"
   ]
  },
  {
   "cell_type": "code",
   "execution_count": 7,
   "id": "f57840e8",
   "metadata": {},
   "outputs": [],
   "source": [
    "# Function to perform one-hot encoding for categorical variables\n",
    "def one_hot_encode(data, columns):\n",
    "    return pd.get_dummies(data, columns=columns, drop_first=True)\n"
   ]
  },
  {
   "cell_type": "code",
   "execution_count": 10,
   "id": "60bc50e2",
   "metadata": {},
   "outputs": [],
   "source": [
    "# Function to evaluate and plot regression results\n",
    "def evaluate_and_plot(model, X_train, Y_train, X_test, Y_test):\n",
    "    \n",
    "    # Prediction on training data\n",
    "    training_data_prediction = model.predict(X_train)\n",
    "    \n",
    "    # R-squared Error\n",
    "    error_score = metrics.r2_score(Y_train, training_data_prediction)\n",
    "    print(\"R-squared Error: \", error_score)\n",
    "    plt.scatter(Y_train, training_data_prediction)\n",
    "    plt.xlabel(\"Actual Price\")\n",
    "    plt.ylabel(\"Predicted Price\")\n",
    "    plt.title(\"Actual Prices vs Predicted Prices (Training Data)\")\n",
    "    plt.show()\n",
    "    \n",
    "    # Prediction on test data\n",
    "    test_data_prediction = model.predict(X_test)\n",
    "    \n",
    "    # R-squared Error\n",
    "    error_score = metrics.r2_score(Y_test, test_data_prediction)\n",
    "    print(\"R-squared Error: \", error_score)\n",
    "    plt.scatter(Y_test, test_data_prediction)\n",
    "    plt.xlabel(\"Actual Price\")\n",
    "    plt.ylabel(\"Predicted Price\")\n",
    "    plt.title(\"Actual Prices vs Predicted Prices (Test Data)\")\n",
    "    plt.show()"
   ]
  },
  {
   "cell_type": "markdown",
   "id": "812e4ad9",
   "metadata": {},
   "source": [
    "# Loading Data"
   ]
  },
  {
   "cell_type": "code",
   "execution_count": 14,
   "id": "5c347df6",
   "metadata": {},
   "outputs": [],
   "source": [
    "# Load the car dataset\n",
    "car_dataset = pd.read_csv(r\"C:\\Users\\91767\\Downloads\\archive cardata\\car data.csv\")\n"
   ]
  },
  {
   "cell_type": "markdown",
   "id": "83198df7",
   "metadata": {},
   "source": [
    "# Preprocessing Data"
   ]
  },
  {
   "cell_type": "code",
   "execution_count": 15,
   "id": "9c5250a2",
   "metadata": {},
   "outputs": [],
   "source": [
    "# Perform one-hot encoding for categorical variables\n",
    "categorical_columns = ['Fuel_Type', 'Selling_type', 'Transmission']\n",
    "car_dataset = one_hot_encode(car_dataset, columns=categorical_columns)\n"
   ]
  },
  {
   "cell_type": "markdown",
   "id": "15416ae2",
   "metadata": {},
   "source": [
    "# Classification of features  "
   ]
  },
  {
   "cell_type": "code",
   "execution_count": 16,
   "id": "91c42000",
   "metadata": {},
   "outputs": [],
   "source": [
    "# Separate features and target variable\n",
    "X = car_dataset.drop(['Car_Name', 'Selling_Price'], axis=1)\n",
    "Y = car_dataset['Selling_Price']"
   ]
  },
  {
   "cell_type": "markdown",
   "id": "c747e502",
   "metadata": {},
   "source": [
    "# Training and Testing"
   ]
  },
  {
   "cell_type": "code",
   "execution_count": 17,
   "id": "dac128d3",
   "metadata": {},
   "outputs": [],
   "source": [
    "# Split the data into training and testing sets\n",
    "X_train, X_test, Y_train, Y_test = train_test_split(X, Y, test_size=0.1, random_state=2)\n"
   ]
  },
  {
   "cell_type": "code",
   "execution_count": 18,
   "id": "d4b8444a",
   "metadata": {},
   "outputs": [
    {
     "data": {
      "text/plain": [
       "LinearRegression()"
      ]
     },
     "execution_count": 18,
     "metadata": {},
     "output_type": "execute_result"
    }
   ],
   "source": [
    "# Create and fit a Linear Regression model\n",
    "lin_reg_model = LinearRegression()\n",
    "lin_reg_model.fit(X_train, Y_train)"
   ]
  },
  {
   "cell_type": "markdown",
   "id": "7a285fc2",
   "metadata": {},
   "source": [
    "# Data visualization through Barplot"
   ]
  },
  {
   "cell_type": "code",
   "execution_count": 19,
   "id": "38ad380f",
   "metadata": {},
   "outputs": [
    {
     "name": "stdout",
     "output_type": "stream",
     "text": [
      "R-squared Error:  0.8823856405331212\n"
     ]
    },
    {
     "data": {
      "image/png": "[encoded data removed]",
      "text/plain": [
       "<Figure size 432x288 with 1 Axes>"
      ]
     },
     "metadata": {
      "needs_background": "light"
     },
     "output_type": "display_data"
    },
    {
     "name": "stdout",
     "output_type": "stream",
     "text": [
      "R-squared Error:  0.8694567179819466\n"
     ]
    },
    {
     "data": {
      "image/png": "[encoded data removed]",
      "text/plain": [
       "<Figure size 432x288 with 1 Axes>"
      ]
     },
     "metadata": {
      "needs_background": "light"
     },
     "output_type": "display_data"
    }
   ],
   "source": [
    "# Evaluate and plot linear regression results\n",
    "evaluate_and_plot(lin_reg_model, X_train, Y_train, X_test, Y_test)\n"
   ]
  },
  {
   "cell_type": "code",
   "execution_count": 20,
   "id": "c391e6dd",
   "metadata": {},
   "outputs": [
    {
     "data": {
      "text/plain": [
       "Lasso()"
      ]
     },
     "execution_count": 20,
     "metadata": {},
     "output_type": "execute_result"
    }
   ],
   "source": [
    "# Create and fit a Lasso Regression model\n",
    "lasso_reg_model = Lasso()\n",
    "lasso_reg_model.fit(X_train, Y_train)"
   ]
  },
  {
   "cell_type": "code",
   "execution_count": 21,
   "id": "81c5e309",
   "metadata": {},
   "outputs": [
    {
     "name": "stdout",
     "output_type": "stream",
     "text": [
      "R-squared Error:  0.8424480718240743\n"
     ]
    },
    {
     "data": {
      "image/png": "[encoded data removed]",
      "text/plain": [
       "<Figure size 432x288 with 1 Axes>"
      ]
     },
     "metadata": {
      "needs_background": "light"
     },
     "output_type": "display_data"
    },
    {
     "name": "stdout",
     "output_type": "stream",
     "text": [
      "R-squared Error:  0.8709763132343395\n"
     ]
    },
    {
     "data": {
      "image/png": "[encoded data removed]",
      "text/plain": [
       "<Figure size 432x288 with 1 Axes>"
      ]
     },
     "metadata": {
      "needs_background": "light"
     },
     "output_type": "display_data"
    }
   ],
   "source": [
    "# Evaluate and plot lasso regression results\n",
    "evaluate_and_plot(lasso_reg_model, X_train, Y_train, X_test, Y_test)"
   ]
  }
 ],
 "metadata": {
  "kernelspec": {
   "display_name": "Python 3",
   "language": "python",
   "name": "python3"
  },
  "language_info": {
   "codemirror_mode": {
    "name": "ipython",
    "version": 3
   },
   "file_extension": ".py",
   "mimetype": "text/x-python",
   "name": "python",
   "nbconvert_exporter": "python",
   "pygments_lexer": "ipython3",
   "version": "3.8.8"
  }
 },
 "nbformat": 4,
 "nbformat_minor": 5
}
